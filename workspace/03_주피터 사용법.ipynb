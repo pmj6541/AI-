{
 "cells": [
  {
   "cell_type": "markdown",
   "metadata": {},
   "source": [
    "- command mode(exc) : 셀을 관리하는 모드\n",
    "- edit mode(enter) : 셀 내부에 내용을 작성할 수 있는 모드\n",
    "---\n",
    "- command mode 일 때\n",
    "- 위 아래 방향키 : 각 셀을 이동한다\n",
    "- a : 현재 셀 상단에 셀이 추가된다.\n",
    "- b : 현재 셀 하단에 셀이 추가된다.\n",
    "- dd : 현재 셀이 삭제된다.\n",
    "- y : 코드를 작성할 수 있는 셀로 변경된다.\n",
    "- m : 설명(마크다운)을 작성할 수 있는 셀로 변경된다.\n",
    "---\n",
    "- edit mode 일 때\n",
    "- 원하는 곳에 가셔서 ctrl + shift + -(빼기) : 현재 위치를 기준으로 셀이 분리된다."
   ]
  },
  {
   "cell_type": "markdown",
   "metadata": {},
   "source": [
    "# 제목1\n",
    "## 제목2\n",
    "### 제목3\n",
    "#### 제목4\n",
    "##### 제목5\n",
    "\n",
    "동해물과 <span style='color:red'>백두산이</span> 마르고 닳도록"
   ]
  },
  {
   "cell_type": "code",
   "execution_count": null,
   "metadata": {},
   "outputs": [],
   "source": []
  }
 ],
 "metadata": {
  "kernelspec": {
   "display_name": "Python 3",
   "language": "python",
   "name": "python3"
  },
  "language_info": {
   "codemirror_mode": {
    "name": "ipython",
    "version": 3
   },
   "file_extension": ".py",
   "mimetype": "text/x-python",
   "name": "python",
   "nbconvert_exporter": "python",
   "pygments_lexer": "ipython3",
   "version": "3.8.3"
  }
 },
 "nbformat": 4,
 "nbformat_minor": 4
}
