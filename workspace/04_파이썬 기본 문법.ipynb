{
 "cells": [
  {
   "cell_type": "markdown",
   "metadata": {},
   "source": [
    "### 세미콜론\n",
    "\n",
    "- 파이썬은 문장의 마지막에 세미콜론을 생략해도 된다."
   ]
  },
  {
   "cell_type": "code",
   "execution_count": 1,
   "metadata": {},
   "outputs": [
    {
     "name": "stdout",
     "output_type": "stream",
     "text": [
      "Hello World\n",
      "Hello World\n"
     ]
    }
   ],
   "source": [
    "print('Hello World')\n",
    "print('Hello World');"
   ]
  },
  {
   "cell_type": "markdown",
   "metadata": {},
   "source": [
    "### 주석\n",
    "\n",
    "- 실행시 무시되는 부분\n",
    "- 설명을 작성하거나 특정 코드를 실행하지 않기위해 사용된다.\n",
    "- 파이썬은 한줄 주석만 제공된다."
   ]
  },
  {
   "cell_type": "code",
   "execution_count": 3,
   "metadata": {},
   "outputs": [],
   "source": [
    "# print('Hello World')"
   ]
  },
  {
   "cell_type": "markdown",
   "metadata": {},
   "source": [
    "### 문자열\n",
    "\n",
    "- 파이썬에서는 문자열을 작은 따옴표(''), 큰 따옴표(\"\")로 표현한다.\n",
    "- ''' ''', \"\" \"\"\" : 입력한 것 그대로 기억하는 문자열\n",
    "- 포멧 문자열 : 문자열 앞에 f를 붙혀주시면 변경되는 문자열을 사용할 수 있다."
   ]
  },
  {
   "cell_type": "code",
   "execution_count": 6,
   "metadata": {},
   "outputs": [
    {
     "name": "stdout",
     "output_type": "stream",
     "text": [
      "문자열\n",
      "문자열\n",
      "<class 'str'>\n",
      "<class 'str'>\n"
     ]
    }
   ],
   "source": [
    "a1 = \"문자열\"\n",
    "a2 = \"문자열\"\n",
    "print(a1)\n",
    "print(a2)\n",
    "print(type(a1))\n",
    "print(type(a2))"
   ]
  },
  {
   "cell_type": "code",
   "execution_count": 8,
   "metadata": {},
   "outputs": [
    {
     "name": "stdout",
     "output_type": "stream",
     "text": [
      "이름은 \"홍길동\" 입니다.\n",
      "이름은 '홍길동' 입니다.\n"
     ]
    }
   ],
   "source": [
    "a3 = '이름은 \"홍길동\" 입니다.'\n",
    "a4 = \"이름은 '홍길동' 입니다.\"\n",
    "print(a3)\n",
    "print(a4)"
   ]
  },
  {
   "cell_type": "code",
   "execution_count": 10,
   "metadata": {},
   "outputs": [
    {
     "name": "stdout",
     "output_type": "stream",
     "text": [
      "나이는 '30살' 이고 이름은 \"홍길동\" 입니다.\n"
     ]
    }
   ],
   "source": [
    "a5 = '''나이는 '30살' 이고 이름은 \"홍길동\" 입니다.'''\n",
    "print(a5)"
   ]
  },
  {
   "cell_type": "code",
   "execution_count": 12,
   "metadata": {},
   "outputs": [
    {
     "name": "stdout",
     "output_type": "stream",
     "text": [
      "\n",
      "    '동해물'과 \"백두산\"이\n",
      "    마르고 닳도록\n",
      "    하느님이 보우하사\n",
      "    우리나라 만세\n",
      "\n"
     ]
    }
   ],
   "source": [
    "a6 = '''\n",
    "    '동해물'과 \"백두산\"이\n",
    "    마르고 닳도록\n",
    "    하느님이 보우하사\n",
    "    우리나라 만세\n",
    "'''\n",
    "print(a6)"
   ]
  },
  {
   "cell_type": "code",
   "execution_count": 16,
   "metadata": {},
   "outputs": [
    {
     "name": "stdout",
     "output_type": "stream",
     "text": [
      "이름은 홍길동이고 나이는 30살 입니다.\n",
      "이름은 홍길동이고 나이는 30살 입니다.\n"
     ]
    }
   ],
   "source": [
    "a10 = '홍길동'\n",
    "a20 = 30\n",
    "\n",
    "a30 = '이름은 ' + a10 + '이고 나이는 ' + str(a20) + '살 입니다.'\n",
    "print(a30)\n",
    "\n",
    "a40 = f'이름은 {a10}이고 나이는 {a20}살 입니다.'\n",
    "print(a40)"
   ]
  },
  {
   "cell_type": "markdown",
   "metadata": {},
   "source": [
    "### 출력문"
   ]
  },
  {
   "cell_type": "code",
   "execution_count": 17,
   "metadata": {},
   "outputs": [
    {
     "name": "stdout",
     "output_type": "stream",
     "text": [
      "10\n",
      "문자열\n"
     ]
    }
   ],
   "source": [
    "# print : 지정된 값을 출력하고 밑으로 내려준다.\n",
    "a1 = 10\n",
    "print(a1)\n",
    "print('문자열')"
   ]
  },
  {
   "cell_type": "code",
   "execution_count": 20,
   "metadata": {},
   "outputs": [
    {
     "name": "stdout",
     "output_type": "stream",
     "text": [
      "10_문자열\n"
     ]
    }
   ],
   "source": [
    "# end에 문자열을 넣어주면 밑으로 내리는 대신 그 문자열이 추가된다.\n",
    "print(a1, end='_')\n",
    "print('문자열')"
   ]
  },
  {
   "cell_type": "code",
   "execution_count": 24,
   "metadata": {},
   "outputs": [
    {
     "data": {
      "text/plain": [
       "200"
      ]
     },
     "execution_count": 24,
     "metadata": {},
     "output_type": "execute_result"
    }
   ],
   "source": [
    "# 셀 마지막에 변수, 값, 수식을 작성하게 되면 그 값을 출력해준다.\n",
    "a1 = 100\n",
    "a2 = 200\n",
    "a1\n",
    "a2"
   ]
  },
  {
   "cell_type": "code",
   "execution_count": 22,
   "metadata": {},
   "outputs": [
    {
     "data": {
      "text/plain": [
       "100"
      ]
     },
     "metadata": {},
     "output_type": "display_data"
    },
    {
     "data": {
      "text/plain": [
       "200"
      ]
     },
     "metadata": {},
     "output_type": "display_data"
    }
   ],
   "source": [
    "display(a1)\n",
    "display(a2)"
   ]
  },
  {
   "cell_type": "code",
   "execution_count": null,
   "metadata": {},
   "outputs": [],
   "source": []
  }
 ],
 "metadata": {
  "kernelspec": {
   "display_name": "Python 3",
   "language": "python",
   "name": "python3"
  },
  "language_info": {
   "codemirror_mode": {
    "name": "ipython",
    "version": 3
   },
   "file_extension": ".py",
   "mimetype": "text/x-python",
   "name": "python",
   "nbconvert_exporter": "python",
   "pygments_lexer": "ipython3",
   "version": "3.8.3"
  }
 },
 "nbformat": 4,
 "nbformat_minor": 4
}
